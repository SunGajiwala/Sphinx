{
 "cells": [
  {
   "cell_type": "code",
   "execution_count": 8,
   "id": "465620b9-b408-4449-91b8-2fc918a92a96",
   "metadata": {},
   "outputs": [],
   "source": [
    "from util import ADMSMClassifier"
   ]
  },
  {
   "cell_type": "markdown",
   "id": "1c843b81-2a62-438c-a5b3-6211f13bd484",
   "metadata": {},
   "source": [
    "## Train model"
   ]
  },
  {
   "cell_type": "code",
   "execution_count": 9,
   "id": "844fc270-a915-4656-bc63-b1d2730c4094",
   "metadata": {},
   "outputs": [],
   "source": [
    "clf = ADMSMClassifier(training_file_path='../data/unh/merged_data_wnf.csv')\n",
    "model_ds = clf.load_or_train_model(retrain=True)"
   ]
  },
  {
   "cell_type": "code",
   "execution_count": 7,
   "id": "c4e8767b-f427-45d2-8f66-31fcc92e0201",
   "metadata": {},
   "outputs": [
    {
     "name": "stdout",
     "output_type": "stream",
     "text": [
      "Making new directory to save files at saved\n",
      "Label Encoding..\n",
      "Training model for 12 features for ms_engineering_om\n",
      "Accuracy score: 90.476 %\n",
      "Feature importances saved to saved/ms_engineering_om_model_feature_imp.csv\n",
      "Feature importance:                           Features  Importance\n",
      "0                School Backlogs_1    0.101927\n",
      "1      School GPA (Recalculated)_1    0.037431\n",
      "2              School_Gap_in_Years    0.025596\n",
      "3   latest_school_duration_in_year    0.017798\n",
      "4           Total_experience_years    0.010000\n",
      "5                Gap_from_last_job    0.008532\n",
      "6                   School Major_1    0.008165\n",
      "7     Converted English Prof Score    0.006972\n",
      "8                       GRE Verbal    0.002936\n",
      "9                 GRE Quantitative    0.000642\n",
      "10          GRE Analytical Writing    0.000000\n",
      "11         Standardized test given    0.000000\n",
      "Saved trained model for ms_engineering_om at saved/ms_engineering_om_finalized_model.sav.\n"
     ]
    }
   ],
   "source": [
    "clf = ADMSMClassifier(study_area=\"ms_engineering_om\", training_file_path='../data/unh/merged_data_wnf.csv')\n",
    "model_eom = clf.load_or_train_model(retrain=True)"
   ]
  },
  {
   "cell_type": "code",
   "execution_count": 3,
   "id": "036a8b25-2116-4444-843b-82e02638f443",
   "metadata": {},
   "outputs": [],
   "source": [
    "# clf.df.shape\n",
    "\n",
    "# from sklearn.preprocessing import StandardScaler\n",
    "# from sklearn.model_selection import train_test_split\n",
    "\n",
    "# X = clf.df.drop(\"Decision Name\", axis=1)\n",
    "# y = clf.df[\"Decision Name\"]\n",
    "\n",
    "# # scaler = StandardScaler()\n",
    "# # X_scaled = scaler.fit_transform(X)\n",
    "\n",
    "# X_train, X_test, y_train, y_test = train_test_split(\n",
    "#     X, y, test_size=0.20, random_state=7\n",
    "# )\n",
    "\n",
    "# X_test.to_csv(\"saved/X_test.csv\", index=False)"
   ]
  },
  {
   "cell_type": "code",
   "execution_count": null,
   "id": "e80fb783-83b6-4a78-9549-6a08be451a52",
   "metadata": {},
   "outputs": [],
   "source": []
  }
 ],
 "metadata": {
  "kernelspec": {
   "display_name": "Python 3 (ipykernel)",
   "language": "python",
   "name": "python3"
  },
  "language_info": {
   "codemirror_mode": {
    "name": "ipython",
    "version": 3
   },
   "file_extension": ".py",
   "mimetype": "text/x-python",
   "name": "python",
   "nbconvert_exporter": "python",
   "pygments_lexer": "ipython3",
   "version": "3.9.12"
  }
 },
 "nbformat": 4,
 "nbformat_minor": 5
}
